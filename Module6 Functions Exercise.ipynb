{
 "cells": [
  {
   "cell_type": "code",
   "execution_count": null,
   "metadata": {},
   "outputs": [],
   "source": [
    "1. Round 4.5667 to the nearest hundreth using a build-in function, round()."
   ]
  },
  {
   "cell_type": "code",
   "execution_count": 1,
   "metadata": {},
   "outputs": [
    {
     "name": "stdout",
     "output_type": "stream",
     "text": [
      "4.57\n"
     ]
    }
   ],
   "source": [
    "num = 4.5667\n",
    "rounded_num = round(num, 2)\n",
    "print(rounded_num)"
   ]
  },
  {
   "cell_type": "markdown",
   "metadata": {},
   "source": [
    "2. Convert \"657\" to an integer data type"
   ]
  },
  {
   "cell_type": "code",
   "execution_count": 4,
   "metadata": {},
   "outputs": [
    {
     "name": "stdout",
     "output_type": "stream",
     "text": [
      "657\n"
     ]
    }
   ],
   "source": [
    "int(\"657\")\n",
    "# or\n",
    "num_str = \"657\"\n",
    "num_int = int(num_str)\n",
    "print(num_int)"
   ]
  },
  {
   "cell_type": "markdown",
   "metadata": {},
   "source": [
    "3.\n",
    "Write a program to get two numbers from a user. Then, create a secret code where a code consists of 6 numbers and each number is randomly generated number between two numbers from a user. "
   ]
  },
  {
   "cell_type": "code",
   "execution_count": 7,
   "metadata": {},
   "outputs": [
    {
     "name": "stdout",
     "output_type": "stream",
     "text": [
      "Enter the first number: 1\n",
      "Enter the second number: 2\n",
      "The secret code is:  [2, 1, 1, 1, 2, 2]\n"
     ]
    }
   ],
   "source": [
    "import random\n",
    "\n",
    "# Get two numbers from the user\n",
    "num1 = int(input(\"Enter the first number: \"))\n",
    "num2 = int(input(\"Enter the second number: \"))\n",
    "\n",
    "# Ensure num1 is smaller than num2\n",
    "if num1 > num2:\n",
    "    num1, num2 = num2, num1\n",
    "\n",
    "# Generate a secret code of 6 random numbers between num1 and num2\n",
    "#secret_code = [random.randint(num1, num2) for _ in range(6)]\n",
    "\n",
    "print(\"The secret code is: \", secret_code)"
   ]
  },
  {
   "cell_type": "markdown",
   "metadata": {},
   "source": [
    "4.\n",
    "Write a program to center align below text where number of characters per line is 40:\n",
    "\n",
    "    Hickory, dickory, dock,\n",
    "    The mouse ran up the clock.\n",
    "    The clock struck one,\n",
    "    The mouse ran down,\n",
    "    Hickory, dickory, dock\n",
    "\n",
    "<b>Do not use string's center method! </b>"
   ]
  },
  {
   "cell_type": "code",
   "execution_count": 2,
   "metadata": {},
   "outputs": [
    {
     "name": "stdout",
     "output_type": "stream",
     "text": [
      "Hickory, dickory, dock, The mouse ran up\n",
      "  the clock. The clock struck one, The  \n",
      " mouse ran down, Hickory, dickory, dock \n"
     ]
    }
   ],
   "source": [
    "line1 = \"Hickory, dickory, dock,\"\n",
    "line2 = \"The mouse ran up the clock.\"\n",
    "line3 = \"The clock struck one,\"\n",
    "line4 = \"The mouse ran down,\"\n",
    "line5 = \"Hickory, dickory, dock\"\n",
    "\n",
    "def center_align(text, width=40):\n",
    "    words = text.split()\n",
    "    lines = []\n",
    "    current_line = []\n",
    "    current_length = 0\n",
    "\n",
    "    for word in words:\n",
    "        if current_length + len(word) <= width:\n",
    "            current_line.append(word)\n",
    "            current_length += len(word) + 1\n",
    "        else:\n",
    "            lines.append(' '.join(current_line).center(width))\n",
    "            current_line = [word]\n",
    "            current_length = len(word) + 1\n",
    "\n",
    "    lines.append(' '.join(current_line).center(width))\n",
    "    return '\\n'.join(lines)\n",
    "\n",
    "text = \"Hickory, dickory, dock, The mouse ran up the clock. The clock struck one, The mouse ran down, Hickory, dickory, dock\"\n",
    "print(center_align(text))"
   ]
  },
  {
   "cell_type": "markdown",
   "metadata": {},
   "source": [
    "5. Write a function to calculate the miles per gallon.\n",
    "Get a miles driven and gallons used from a user and call your function to calculate the miles per gallon. "
   ]
  },
  {
   "cell_type": "code",
   "execution_count": 3,
   "metadata": {},
   "outputs": [
    {
     "ename": "SyntaxError",
     "evalue": "invalid syntax (1590541107.py, line 1)",
     "output_type": "error",
     "traceback": [
      "\u001b[1;36m  Cell \u001b[1;32mIn[3], line 1\u001b[1;36m\u001b[0m\n\u001b[1;33m    Sure, here is a Python function that calculates miles per gallon:\u001b[0m\n\u001b[1;37m                    ^\u001b[0m\n\u001b[1;31mSyntaxError\u001b[0m\u001b[1;31m:\u001b[0m invalid syntax\n"
     ]
    }
   ],
   "source": [
    "Sure, here is a Python function that calculates miles per gallon:\n",
    "\n",
    "Python\n",
    "AI-generated code. Review and use carefully. More info on FAQ.\n",
    "\n",
    "def calculate_mpg(miles, gallons):\n",
    "    try:\n",
    "        mpg = miles / gallons\n",
    "        return mpg\n",
    "    except ZeroDivisionError:\n",
    "        return \"Gallons used cannot be zero.\"\n",
    "\n",
    "miles = float(input(\"Enter miles driven: \"))\n",
    "gallons = float(input(\"Enter gallons used: \"))\n",
    "mpg = calculate_mpg(miles, gallons)\n",
    "\n",
    "print(f\"Miles per gallon: {mpg}\")"
   ]
  },
  {
   "cell_type": "code",
   "execution_count": null,
   "metadata": {},
   "outputs": [],
   "source": []
  }
 ],
 "metadata": {
  "kernelspec": {
   "display_name": "Python 3 (ipykernel)",
   "language": "python",
   "name": "python3"
  },
  "language_info": {
   "codemirror_mode": {
    "name": "ipython",
    "version": 3
   },
   "file_extension": ".py",
   "mimetype": "text/x-python",
   "name": "python",
   "nbconvert_exporter": "python",
   "pygments_lexer": "ipython3",
   "version": "3.11.4"
  }
 },
 "nbformat": 4,
 "nbformat_minor": 4
}
